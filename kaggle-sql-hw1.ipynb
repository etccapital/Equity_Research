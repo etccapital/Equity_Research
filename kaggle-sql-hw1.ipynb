{
 "cells": [
  {
   "cell_type": "markdown",
   "id": "9369dab9",
   "metadata": {
    "papermill": {
     "duration": 0.007558,
     "end_time": "2023-05-22T15:39:21.676492",
     "exception": false,
     "start_time": "2023-05-22T15:39:21.668934",
     "status": "completed"
    },
    "tags": []
   },
   "source": [
    "**This notebook is an exercise in the [SQL](https://www.kaggle.com/learn/intro-to-sql) course.  You can reference the tutorial at [this link](https://www.kaggle.com/dansbecker/getting-started-with-sql-and-bigquery).**\n",
    "\n",
    "---\n"
   ]
  },
  {
   "cell_type": "markdown",
   "id": "939911ca",
   "metadata": {
    "papermill": {
     "duration": 0.0064,
     "end_time": "2023-05-22T15:39:21.689774",
     "exception": false,
     "start_time": "2023-05-22T15:39:21.683374",
     "status": "completed"
    },
    "tags": []
   },
   "source": [
    "# Introduction\n",
    "\n",
    "The first test of your new data exploration skills uses data describing crime in the city of Chicago.\n",
    "\n",
    "Before you get started, run the following cell. It sets up the automated feedback system to review your answers."
   ]
  },
  {
   "cell_type": "code",
   "execution_count": 1,
   "id": "636e01d4",
   "metadata": {
    "execution": {
     "iopub.execute_input": "2023-05-22T15:39:21.705093Z",
     "iopub.status.busy": "2023-05-22T15:39:21.704691Z",
     "iopub.status.idle": "2023-05-22T15:39:22.554712Z",
     "shell.execute_reply": "2023-05-22T15:39:22.553132Z"
    },
    "papermill": {
     "duration": 0.860592,
     "end_time": "2023-05-22T15:39:22.557079",
     "exception": false,
     "start_time": "2023-05-22T15:39:21.696487",
     "status": "completed"
    },
    "tags": []
   },
   "outputs": [
    {
     "name": "stdout",
     "output_type": "stream",
     "text": [
      "Using Kaggle's public dataset BigQuery integration.\n",
      "Setup Complete\n"
     ]
    }
   ],
   "source": [
    "# Set up feedack system\n",
    "from learntools.core import binder\n",
    "binder.bind(globals())\n",
    "from learntools.sql.ex1 import *\n",
    "print(\"Setup Complete\")"
   ]
  },
  {
   "cell_type": "markdown",
   "id": "22256308",
   "metadata": {
    "papermill": {
     "duration": 0.006775,
     "end_time": "2023-05-22T15:39:22.570894",
     "exception": false,
     "start_time": "2023-05-22T15:39:22.564119",
     "status": "completed"
    },
    "tags": []
   },
   "source": [
    "Use the next code cell to fetch the dataset."
   ]
  },
  {
   "cell_type": "code",
   "execution_count": 2,
   "id": "32069ac1",
   "metadata": {
    "execution": {
     "iopub.execute_input": "2023-05-22T15:39:22.587283Z",
     "iopub.status.busy": "2023-05-22T15:39:22.586576Z",
     "iopub.status.idle": "2023-05-22T15:39:22.970928Z",
     "shell.execute_reply": "2023-05-22T15:39:22.969853Z"
    },
    "papermill": {
     "duration": 0.395611,
     "end_time": "2023-05-22T15:39:22.973636",
     "exception": false,
     "start_time": "2023-05-22T15:39:22.578025",
     "status": "completed"
    },
    "tags": []
   },
   "outputs": [
    {
     "name": "stdout",
     "output_type": "stream",
     "text": [
      "Using Kaggle's public dataset BigQuery integration.\n"
     ]
    }
   ],
   "source": [
    "from google.cloud import bigquery\n",
    "\n",
    "# Create a \"Client\" object\n",
    "client = bigquery.Client()\n",
    "\n",
    "# Construct a reference to the \"chicago_crime\" dataset\n",
    "dataset_ref = client.dataset(\"chicago_crime\", project=\"bigquery-public-data\")\n",
    "\n",
    "# API request - fetch the dataset\n",
    "dataset = client.get_dataset(dataset_ref)"
   ]
  },
  {
   "cell_type": "markdown",
   "id": "8229a28f",
   "metadata": {
    "papermill": {
     "duration": 0.00717,
     "end_time": "2023-05-22T15:39:22.988138",
     "exception": false,
     "start_time": "2023-05-22T15:39:22.980968",
     "status": "completed"
    },
    "tags": []
   },
   "source": [
    "# Exercises\n",
    "\n",
    "### 1) Count tables in the dataset\n",
    "\n",
    "How many tables are in the Chicago Crime dataset?"
   ]
  },
  {
   "cell_type": "code",
   "execution_count": 3,
   "id": "bc0a6f69",
   "metadata": {
    "execution": {
     "iopub.execute_input": "2023-05-22T15:39:23.004171Z",
     "iopub.status.busy": "2023-05-22T15:39:23.003753Z",
     "iopub.status.idle": "2023-05-22T15:39:23.237979Z",
     "shell.execute_reply": "2023-05-22T15:39:23.236710Z"
    },
    "papermill": {
     "duration": 0.245738,
     "end_time": "2023-05-22T15:39:23.241024",
     "exception": false,
     "start_time": "2023-05-22T15:39:22.995286",
     "status": "completed"
    },
    "tags": []
   },
   "outputs": [
    {
     "name": "stdout",
     "output_type": "stream",
     "text": [
      "crime\n"
     ]
    }
   ],
   "source": [
    "# Write the code you need here to figure out the answer\n",
    "# List all the tables in the \"chicago_crime\" dataset\n",
    "tables = list(client.list_tables(dataset))\n",
    "\n",
    "# Print names of all tables in the dataset (there's only one table in the dataset.)\n",
    "for table in tables:  \n",
    "    print(table.table_id)\n"
   ]
  },
  {
   "cell_type": "code",
   "execution_count": 4,
   "id": "f76b86c9",
   "metadata": {
    "execution": {
     "iopub.execute_input": "2023-05-22T15:39:23.257783Z",
     "iopub.status.busy": "2023-05-22T15:39:23.256726Z",
     "iopub.status.idle": "2023-05-22T15:39:23.266599Z",
     "shell.execute_reply": "2023-05-22T15:39:23.265503Z"
    },
    "papermill": {
     "duration": 0.020547,
     "end_time": "2023-05-22T15:39:23.268766",
     "exception": false,
     "start_time": "2023-05-22T15:39:23.248219",
     "status": "completed"
    },
    "tags": []
   },
   "outputs": [
    {
     "data": {
      "application/javascript": [
       "parent.postMessage({\"jupyterEvent\": \"custom.exercise_interaction\", \"data\": {\"outcomeType\": 1, \"valueTowardsCompletion\": 0.3333333333333333, \"interactionType\": 1, \"questionType\": 1, \"questionId\": \"1_CountTables\", \"learnToolsVersion\": \"0.3.4\", \"failureMessage\": \"\", \"exceptionClass\": \"\", \"trace\": \"\"}}, \"*\")"
      ],
      "text/plain": [
       "<IPython.core.display.Javascript object>"
      ]
     },
     "metadata": {},
     "output_type": "display_data"
    },
    {
     "data": {
      "text/markdown": [
       "<span style=\"color:#33cc33\">Correct</span>"
      ],
      "text/plain": [
       "Correct"
      ]
     },
     "metadata": {},
     "output_type": "display_data"
    }
   ],
   "source": [
    "num_tables = 1  # Store the answer as num_tables and then run this cell\n",
    "\n",
    "# Check your answer\n",
    "q_1.check()"
   ]
  },
  {
   "cell_type": "markdown",
   "id": "0f4b0320",
   "metadata": {
    "papermill": {
     "duration": 0.007703,
     "end_time": "2023-05-22T15:39:23.284233",
     "exception": false,
     "start_time": "2023-05-22T15:39:23.276530",
     "status": "completed"
    },
    "tags": []
   },
   "source": [
    "For a hint or the solution, uncomment the appropriate line below."
   ]
  },
  {
   "cell_type": "code",
   "execution_count": 5,
   "id": "44b73213",
   "metadata": {
    "execution": {
     "iopub.execute_input": "2023-05-22T15:39:23.301578Z",
     "iopub.status.busy": "2023-05-22T15:39:23.301178Z",
     "iopub.status.idle": "2023-05-22T15:39:23.314173Z",
     "shell.execute_reply": "2023-05-22T15:39:23.313118Z"
    },
    "papermill": {
     "duration": 0.02453,
     "end_time": "2023-05-22T15:39:23.316490",
     "exception": false,
     "start_time": "2023-05-22T15:39:23.291960",
     "status": "completed"
    },
    "tags": []
   },
   "outputs": [
    {
     "data": {
      "application/javascript": [
       "parent.postMessage({\"jupyterEvent\": \"custom.exercise_interaction\", \"data\": {\"interactionType\": 2, \"questionType\": 1, \"questionId\": \"1_CountTables\", \"learnToolsVersion\": \"0.3.4\", \"valueTowardsCompletion\": 0.0, \"failureMessage\": \"\", \"exceptionClass\": \"\", \"trace\": \"\", \"outcomeType\": 4}}, \"*\")"
      ],
      "text/plain": [
       "<IPython.core.display.Javascript object>"
      ]
     },
     "metadata": {},
     "output_type": "display_data"
    },
    {
     "data": {
      "text/markdown": [
       "<span style=\"color:#3366cc\">Hint:</span> Use the `list_tables()` method to get a list of the tables in the dataset."
      ],
      "text/plain": [
       "Hint: Use the `list_tables()` method to get a list of the tables in the dataset."
      ]
     },
     "metadata": {},
     "output_type": "display_data"
    },
    {
     "data": {
      "application/javascript": [
       "parent.postMessage({\"jupyterEvent\": \"custom.exercise_interaction\", \"data\": {\"interactionType\": 3, \"questionType\": 1, \"questionId\": \"1_CountTables\", \"learnToolsVersion\": \"0.3.4\", \"valueTowardsCompletion\": 0.0, \"failureMessage\": \"\", \"exceptionClass\": \"\", \"trace\": \"\", \"outcomeType\": 4}}, \"*\")"
      ],
      "text/plain": [
       "<IPython.core.display.Javascript object>"
      ]
     },
     "metadata": {},
     "output_type": "display_data"
    },
    {
     "data": {
      "text/markdown": [
       "<span style=\"color:#33cc99\">Solution:</span> \n",
       "```python\n",
       "\n",
       "# List all the tables in the \"chicago_crime\" dataset\n",
       "tables = list(client.list_tables(dataset))\n",
       "\n",
       "# Print number of tables in the dataset\n",
       "print(len(tables))\n",
       "\n",
       "num_tables = 1\n",
       "\n",
       "```"
      ],
      "text/plain": [
       "Solution: \n",
       "```python\n",
       "\n",
       "# List all the tables in the \"chicago_crime\" dataset\n",
       "tables = list(client.list_tables(dataset))\n",
       "\n",
       "# Print number of tables in the dataset\n",
       "print(len(tables))\n",
       "\n",
       "num_tables = 1\n",
       "\n",
       "```"
      ]
     },
     "metadata": {},
     "output_type": "display_data"
    }
   ],
   "source": [
    "q_1.hint()\n",
    "q_1.solution()"
   ]
  },
  {
   "cell_type": "markdown",
   "id": "fd6e998c",
   "metadata": {
    "papermill": {
     "duration": 0.007953,
     "end_time": "2023-05-22T15:39:23.332692",
     "exception": false,
     "start_time": "2023-05-22T15:39:23.324739",
     "status": "completed"
    },
    "tags": []
   },
   "source": [
    "### 2) Explore the table schema\n",
    "\n",
    "How many columns in the `crime` table have `TIMESTAMP` data?"
   ]
  },
  {
   "cell_type": "code",
   "execution_count": 6,
   "id": "372bf45f",
   "metadata": {
    "execution": {
     "iopub.execute_input": "2023-05-22T15:39:23.350918Z",
     "iopub.status.busy": "2023-05-22T15:39:23.350536Z",
     "iopub.status.idle": "2023-05-22T15:39:23.603548Z",
     "shell.execute_reply": "2023-05-22T15:39:23.602346Z"
    },
    "papermill": {
     "duration": 0.264932,
     "end_time": "2023-05-22T15:39:23.605971",
     "exception": false,
     "start_time": "2023-05-22T15:39:23.341039",
     "status": "completed"
    },
    "tags": []
   },
   "outputs": [
    {
     "data": {
      "text/plain": [
       "[SchemaField('unique_key', 'INTEGER', 'REQUIRED', None, (), None),\n",
       " SchemaField('case_number', 'STRING', 'NULLABLE', None, (), None),\n",
       " SchemaField('date', 'TIMESTAMP', 'NULLABLE', None, (), None),\n",
       " SchemaField('block', 'STRING', 'NULLABLE', None, (), None),\n",
       " SchemaField('iucr', 'STRING', 'NULLABLE', None, (), None),\n",
       " SchemaField('primary_type', 'STRING', 'NULLABLE', None, (), None),\n",
       " SchemaField('description', 'STRING', 'NULLABLE', None, (), None),\n",
       " SchemaField('location_description', 'STRING', 'NULLABLE', None, (), None),\n",
       " SchemaField('arrest', 'BOOLEAN', 'NULLABLE', None, (), None),\n",
       " SchemaField('domestic', 'BOOLEAN', 'NULLABLE', None, (), None),\n",
       " SchemaField('beat', 'INTEGER', 'NULLABLE', None, (), None),\n",
       " SchemaField('district', 'INTEGER', 'NULLABLE', None, (), None),\n",
       " SchemaField('ward', 'INTEGER', 'NULLABLE', None, (), None),\n",
       " SchemaField('community_area', 'INTEGER', 'NULLABLE', None, (), None),\n",
       " SchemaField('fbi_code', 'STRING', 'NULLABLE', None, (), None),\n",
       " SchemaField('x_coordinate', 'FLOAT', 'NULLABLE', None, (), None),\n",
       " SchemaField('y_coordinate', 'FLOAT', 'NULLABLE', None, (), None),\n",
       " SchemaField('year', 'INTEGER', 'NULLABLE', None, (), None),\n",
       " SchemaField('updated_on', 'TIMESTAMP', 'NULLABLE', None, (), None),\n",
       " SchemaField('latitude', 'FLOAT', 'NULLABLE', None, (), None),\n",
       " SchemaField('longitude', 'FLOAT', 'NULLABLE', None, (), None),\n",
       " SchemaField('location', 'STRING', 'NULLABLE', None, (), None)]"
      ]
     },
     "execution_count": 6,
     "metadata": {},
     "output_type": "execute_result"
    }
   ],
   "source": [
    "# Write the code to figure out the answer\n",
    "# Construct a reference to the \"crime\" table\n",
    "table_ref = dataset_ref.table(\"crime\")\n",
    "\n",
    "# API request - fetch the table\n",
    "table = client.get_table(table_ref)\n",
    "table.schema\n"
   ]
  },
  {
   "cell_type": "code",
   "execution_count": 7,
   "id": "78b0b779",
   "metadata": {
    "execution": {
     "iopub.execute_input": "2023-05-22T15:39:23.624952Z",
     "iopub.status.busy": "2023-05-22T15:39:23.624575Z",
     "iopub.status.idle": "2023-05-22T15:39:23.633252Z",
     "shell.execute_reply": "2023-05-22T15:39:23.632079Z"
    },
    "papermill": {
     "duration": 0.020648,
     "end_time": "2023-05-22T15:39:23.635420",
     "exception": false,
     "start_time": "2023-05-22T15:39:23.614772",
     "status": "completed"
    },
    "tags": []
   },
   "outputs": [
    {
     "data": {
      "application/javascript": [
       "parent.postMessage({\"jupyterEvent\": \"custom.exercise_interaction\", \"data\": {\"outcomeType\": 1, \"valueTowardsCompletion\": 0.3333333333333333, \"interactionType\": 1, \"questionType\": 1, \"questionId\": \"2_CountTimestampFields\", \"learnToolsVersion\": \"0.3.4\", \"failureMessage\": \"\", \"exceptionClass\": \"\", \"trace\": \"\"}}, \"*\")"
      ],
      "text/plain": [
       "<IPython.core.display.Javascript object>"
      ]
     },
     "metadata": {},
     "output_type": "display_data"
    },
    {
     "data": {
      "text/markdown": [
       "<span style=\"color:#33cc33\">Correct</span>"
      ],
      "text/plain": [
       "Correct"
      ]
     },
     "metadata": {},
     "output_type": "display_data"
    }
   ],
   "source": [
    "num_timestamp_fields = 2 # Put your answer here\n",
    "\n",
    "# Check your answer\n",
    "q_2.check()"
   ]
  },
  {
   "cell_type": "markdown",
   "id": "ffff8aaa",
   "metadata": {
    "papermill": {
     "duration": 0.008311,
     "end_time": "2023-05-22T15:39:23.652456",
     "exception": false,
     "start_time": "2023-05-22T15:39:23.644145",
     "status": "completed"
    },
    "tags": []
   },
   "source": [
    "For a hint or the solution, uncomment the appropriate line below."
   ]
  },
  {
   "cell_type": "code",
   "execution_count": 8,
   "id": "56cf5537",
   "metadata": {
    "execution": {
     "iopub.execute_input": "2023-05-22T15:39:23.671361Z",
     "iopub.status.busy": "2023-05-22T15:39:23.670935Z",
     "iopub.status.idle": "2023-05-22T15:39:23.681935Z",
     "shell.execute_reply": "2023-05-22T15:39:23.681138Z"
    },
    "papermill": {
     "duration": 0.02307,
     "end_time": "2023-05-22T15:39:23.684040",
     "exception": false,
     "start_time": "2023-05-22T15:39:23.660970",
     "status": "completed"
    },
    "tags": []
   },
   "outputs": [
    {
     "data": {
      "application/javascript": [
       "parent.postMessage({\"jupyterEvent\": \"custom.exercise_interaction\", \"data\": {\"interactionType\": 2, \"questionType\": 1, \"questionId\": \"2_CountTimestampFields\", \"learnToolsVersion\": \"0.3.4\", \"valueTowardsCompletion\": 0.0, \"failureMessage\": \"\", \"exceptionClass\": \"\", \"trace\": \"\", \"outcomeType\": 4}}, \"*\")"
      ],
      "text/plain": [
       "<IPython.core.display.Javascript object>"
      ]
     },
     "metadata": {},
     "output_type": "display_data"
    },
    {
     "data": {
      "text/markdown": [
       "<span style=\"color:#3366cc\">Hint:</span> Begin by fetching the `crime` table. Then take a look at the table schema, and check the field type of each column.  How many times does `'TIMESTAMP'` appear?"
      ],
      "text/plain": [
       "Hint: Begin by fetching the `crime` table. Then take a look at the table schema, and check the field type of each column.  How many times does `'TIMESTAMP'` appear?"
      ]
     },
     "metadata": {},
     "output_type": "display_data"
    },
    {
     "data": {
      "application/javascript": [
       "parent.postMessage({\"jupyterEvent\": \"custom.exercise_interaction\", \"data\": {\"interactionType\": 3, \"questionType\": 1, \"questionId\": \"2_CountTimestampFields\", \"learnToolsVersion\": \"0.3.4\", \"valueTowardsCompletion\": 0.0, \"failureMessage\": \"\", \"exceptionClass\": \"\", \"trace\": \"\", \"outcomeType\": 4}}, \"*\")"
      ],
      "text/plain": [
       "<IPython.core.display.Javascript object>"
      ]
     },
     "metadata": {},
     "output_type": "display_data"
    },
    {
     "data": {
      "text/markdown": [
       "<span style=\"color:#33cc99\">Solution:</span> \n",
       "```python\n",
       "\n",
       "# Construct a reference to the \"crime\" table\n",
       "table_ref = dataset_ref.table(\"crime\")\n",
       "\n",
       "# API request - fetch the table\n",
       "table = client.get_table(table_ref)\n",
       "\n",
       "# Print information on all the columns in the \"crime\" table in the \"chicago_crime\" dataset\n",
       "print(table.schema)\n",
       "\n",
       "num_timestamp_fields = 2\n",
       "\n",
       "```"
      ],
      "text/plain": [
       "Solution: \n",
       "```python\n",
       "\n",
       "# Construct a reference to the \"crime\" table\n",
       "table_ref = dataset_ref.table(\"crime\")\n",
       "\n",
       "# API request - fetch the table\n",
       "table = client.get_table(table_ref)\n",
       "\n",
       "# Print information on all the columns in the \"crime\" table in the \"chicago_crime\" dataset\n",
       "print(table.schema)\n",
       "\n",
       "num_timestamp_fields = 2\n",
       "\n",
       "```"
      ]
     },
     "metadata": {},
     "output_type": "display_data"
    }
   ],
   "source": [
    "q_2.hint()\n",
    "q_2.solution()"
   ]
  },
  {
   "cell_type": "markdown",
   "id": "b9684c8f",
   "metadata": {
    "papermill": {
     "duration": 0.009066,
     "end_time": "2023-05-22T15:39:23.702522",
     "exception": false,
     "start_time": "2023-05-22T15:39:23.693456",
     "status": "completed"
    },
    "tags": []
   },
   "source": [
    "### 3) Create a crime map\n",
    "\n",
    "If you wanted to create a map with a dot at the location of each crime, what are the names of the two fields you likely need to pull out of the `crime` table to plot the crimes on a map?"
   ]
  },
  {
   "cell_type": "code",
   "execution_count": 9,
   "id": "f3233034",
   "metadata": {
    "execution": {
     "iopub.execute_input": "2023-05-22T15:39:23.723981Z",
     "iopub.status.busy": "2023-05-22T15:39:23.723570Z",
     "iopub.status.idle": "2023-05-22T15:39:24.292977Z",
     "shell.execute_reply": "2023-05-22T15:39:24.291893Z"
    },
    "papermill": {
     "duration": 0.582431,
     "end_time": "2023-05-22T15:39:24.295203",
     "exception": false,
     "start_time": "2023-05-22T15:39:23.712772",
     "status": "completed"
    },
    "tags": []
   },
   "outputs": [
    {
     "data": {
      "text/html": [
       "<div>\n",
       "<style scoped>\n",
       "    .dataframe tbody tr th:only-of-type {\n",
       "        vertical-align: middle;\n",
       "    }\n",
       "\n",
       "    .dataframe tbody tr th {\n",
       "        vertical-align: top;\n",
       "    }\n",
       "\n",
       "    .dataframe thead th {\n",
       "        text-align: right;\n",
       "    }\n",
       "</style>\n",
       "<table border=\"1\" class=\"dataframe\">\n",
       "  <thead>\n",
       "    <tr style=\"text-align: right;\">\n",
       "      <th></th>\n",
       "      <th>unique_key</th>\n",
       "      <th>case_number</th>\n",
       "      <th>date</th>\n",
       "      <th>block</th>\n",
       "      <th>iucr</th>\n",
       "      <th>primary_type</th>\n",
       "      <th>description</th>\n",
       "      <th>location_description</th>\n",
       "      <th>arrest</th>\n",
       "      <th>domestic</th>\n",
       "      <th>...</th>\n",
       "      <th>ward</th>\n",
       "      <th>community_area</th>\n",
       "      <th>fbi_code</th>\n",
       "      <th>x_coordinate</th>\n",
       "      <th>y_coordinate</th>\n",
       "      <th>year</th>\n",
       "      <th>updated_on</th>\n",
       "      <th>latitude</th>\n",
       "      <th>longitude</th>\n",
       "      <th>location</th>\n",
       "    </tr>\n",
       "  </thead>\n",
       "  <tbody>\n",
       "    <tr>\n",
       "      <th>0</th>\n",
       "      <td>26773</td>\n",
       "      <td>JF247428</td>\n",
       "      <td>2022-05-18 10:06:00+00:00</td>\n",
       "      <td>002XX W 105TH ST</td>\n",
       "      <td>0110</td>\n",
       "      <td>HOMICIDE</td>\n",
       "      <td>FIRST DEGREE MURDER</td>\n",
       "      <td>HOUSE</td>\n",
       "      <td>True</td>\n",
       "      <td>True</td>\n",
       "      <td>...</td>\n",
       "      <td>34.0</td>\n",
       "      <td>49.0</td>\n",
       "      <td>01A</td>\n",
       "      <td>1176555.0</td>\n",
       "      <td>1835314.0</td>\n",
       "      <td>2022</td>\n",
       "      <td>2022-09-18 04:45:51+00:00</td>\n",
       "      <td>41.703447</td>\n",
       "      <td>-87.629105</td>\n",
       "      <td>(41.703447034, -87.629104948)</td>\n",
       "    </tr>\n",
       "    <tr>\n",
       "      <th>1</th>\n",
       "      <td>3496</td>\n",
       "      <td>HM180041</td>\n",
       "      <td>2006-02-14 04:15:00+00:00</td>\n",
       "      <td>003XX W 104TH PL</td>\n",
       "      <td>0110</td>\n",
       "      <td>HOMICIDE</td>\n",
       "      <td>FIRST DEGREE MURDER</td>\n",
       "      <td>STREET</td>\n",
       "      <td>True</td>\n",
       "      <td>False</td>\n",
       "      <td>...</td>\n",
       "      <td>34.0</td>\n",
       "      <td>49.0</td>\n",
       "      <td>01A</td>\n",
       "      <td>1176012.0</td>\n",
       "      <td>1835633.0</td>\n",
       "      <td>2006</td>\n",
       "      <td>2022-09-18 04:45:51+00:00</td>\n",
       "      <td>41.704335</td>\n",
       "      <td>-87.631084</td>\n",
       "      <td>(41.704334583, -87.631083766)</td>\n",
       "    </tr>\n",
       "    <tr>\n",
       "      <th>2</th>\n",
       "      <td>2498950</td>\n",
       "      <td>HH839590</td>\n",
       "      <td>2002-12-15 05:58:20+00:00</td>\n",
       "      <td>001XX E 105TH ST</td>\n",
       "      <td>0265</td>\n",
       "      <td>CRIM SEXUAL ASSAULT</td>\n",
       "      <td>AGGRAVATED: OTHER</td>\n",
       "      <td>ALLEY</td>\n",
       "      <td>True</td>\n",
       "      <td>False</td>\n",
       "      <td>...</td>\n",
       "      <td>9.0</td>\n",
       "      <td>49.0</td>\n",
       "      <td>02</td>\n",
       "      <td>1179226.0</td>\n",
       "      <td>1835364.0</td>\n",
       "      <td>2002</td>\n",
       "      <td>2018-02-28 03:56:25+00:00</td>\n",
       "      <td>41.703524</td>\n",
       "      <td>-87.619323</td>\n",
       "      <td>(41.703523887, -87.619322851)</td>\n",
       "    </tr>\n",
       "    <tr>\n",
       "      <th>3</th>\n",
       "      <td>12465794</td>\n",
       "      <td>JE352934</td>\n",
       "      <td>2021-08-27 10:00:00+00:00</td>\n",
       "      <td>104XX S MICHIGAN AVE</td>\n",
       "      <td>0265</td>\n",
       "      <td>CRIMINAL SEXUAL ASSAULT</td>\n",
       "      <td>AGGRAVATED - OTHER</td>\n",
       "      <td>NURSING / RETIREMENT HOME</td>\n",
       "      <td>False</td>\n",
       "      <td>True</td>\n",
       "      <td>...</td>\n",
       "      <td>9.0</td>\n",
       "      <td>49.0</td>\n",
       "      <td>02</td>\n",
       "      <td>1178871.0</td>\n",
       "      <td>1835534.0</td>\n",
       "      <td>2021</td>\n",
       "      <td>2021-09-03 04:48:51+00:00</td>\n",
       "      <td>41.703998</td>\n",
       "      <td>-87.620618</td>\n",
       "      <td>(41.70399846, -87.620617627)</td>\n",
       "    </tr>\n",
       "    <tr>\n",
       "      <th>4</th>\n",
       "      <td>7127472</td>\n",
       "      <td>HR537025</td>\n",
       "      <td>2009-08-21 08:00:00+00:00</td>\n",
       "      <td>007XX E 104TH ST</td>\n",
       "      <td>0266</td>\n",
       "      <td>CRIM SEXUAL ASSAULT</td>\n",
       "      <td>PREDATORY</td>\n",
       "      <td>RESIDENCE</td>\n",
       "      <td>False</td>\n",
       "      <td>False</td>\n",
       "      <td>...</td>\n",
       "      <td>9.0</td>\n",
       "      <td>50.0</td>\n",
       "      <td>02</td>\n",
       "      <td>1182956.0</td>\n",
       "      <td>1836156.0</td>\n",
       "      <td>2009</td>\n",
       "      <td>2018-02-28 03:56:25+00:00</td>\n",
       "      <td>41.705612</td>\n",
       "      <td>-87.605640</td>\n",
       "      <td>(41.705611562, -87.605639976)</td>\n",
       "    </tr>\n",
       "    <tr>\n",
       "      <th>5</th>\n",
       "      <td>1707607</td>\n",
       "      <td>G504706</td>\n",
       "      <td>2001-08-24 06:00:47+00:00</td>\n",
       "      <td>103XX S CORLISS AV</td>\n",
       "      <td>0281</td>\n",
       "      <td>CRIM SEXUAL ASSAULT</td>\n",
       "      <td>NON-AGGRAVATED</td>\n",
       "      <td>RESIDENCE</td>\n",
       "      <td>False</td>\n",
       "      <td>False</td>\n",
       "      <td>...</td>\n",
       "      <td>NaN</td>\n",
       "      <td>NaN</td>\n",
       "      <td>02</td>\n",
       "      <td>1183354.0</td>\n",
       "      <td>1836824.0</td>\n",
       "      <td>2001</td>\n",
       "      <td>2015-08-17 03:03:40+00:00</td>\n",
       "      <td>41.707435</td>\n",
       "      <td>-87.604162</td>\n",
       "      <td>(41.7074354, -87.604161837)</td>\n",
       "    </tr>\n",
       "    <tr>\n",
       "      <th>6</th>\n",
       "      <td>11944037</td>\n",
       "      <td>JD104688</td>\n",
       "      <td>2020-01-04 10:25:00+00:00</td>\n",
       "      <td>103XX S WENTWORTH AVE</td>\n",
       "      <td>0281</td>\n",
       "      <td>CRIM SEXUAL ASSAULT</td>\n",
       "      <td>NON-AGGRAVATED</td>\n",
       "      <td>VEHICLE NON-COMMERCIAL</td>\n",
       "      <td>False</td>\n",
       "      <td>False</td>\n",
       "      <td>...</td>\n",
       "      <td>34.0</td>\n",
       "      <td>49.0</td>\n",
       "      <td>02</td>\n",
       "      <td>1176774.0</td>\n",
       "      <td>1836565.0</td>\n",
       "      <td>2020</td>\n",
       "      <td>2020-01-11 03:47:16+00:00</td>\n",
       "      <td>41.706875</td>\n",
       "      <td>-87.628266</td>\n",
       "      <td>(41.706875037, -87.628265515)</td>\n",
       "    </tr>\n",
       "    <tr>\n",
       "      <th>7</th>\n",
       "      <td>9704426</td>\n",
       "      <td>HX354796</td>\n",
       "      <td>2014-07-21 07:00:00+00:00</td>\n",
       "      <td>105XX S EBERHART AVE</td>\n",
       "      <td>0281</td>\n",
       "      <td>CRIM SEXUAL ASSAULT</td>\n",
       "      <td>NON-AGGRAVATED</td>\n",
       "      <td>RESIDENCE</td>\n",
       "      <td>False</td>\n",
       "      <td>False</td>\n",
       "      <td>...</td>\n",
       "      <td>9.0</td>\n",
       "      <td>49.0</td>\n",
       "      <td>02</td>\n",
       "      <td>1181443.0</td>\n",
       "      <td>1835226.0</td>\n",
       "      <td>2014</td>\n",
       "      <td>2018-02-10 03:50:01+00:00</td>\n",
       "      <td>41.703094</td>\n",
       "      <td>-87.611209</td>\n",
       "      <td>(41.70309447, -87.611208957)</td>\n",
       "    </tr>\n",
       "    <tr>\n",
       "      <th>8</th>\n",
       "      <td>12376218</td>\n",
       "      <td>JE243259</td>\n",
       "      <td>2021-05-26 04:00:00+00:00</td>\n",
       "      <td>007XX E 105TH ST</td>\n",
       "      <td>0281</td>\n",
       "      <td>CRIMINAL SEXUAL ASSAULT</td>\n",
       "      <td>NON-AGGRAVATED</td>\n",
       "      <td>RESIDENCE</td>\n",
       "      <td>False</td>\n",
       "      <td>False</td>\n",
       "      <td>...</td>\n",
       "      <td>9.0</td>\n",
       "      <td>50.0</td>\n",
       "      <td>02</td>\n",
       "      <td>1182965.0</td>\n",
       "      <td>1835489.0</td>\n",
       "      <td>2021</td>\n",
       "      <td>2021-06-02 05:19:00+00:00</td>\n",
       "      <td>41.703781</td>\n",
       "      <td>-87.605628</td>\n",
       "      <td>(41.70378102, -87.605627658)</td>\n",
       "    </tr>\n",
       "    <tr>\n",
       "      <th>9</th>\n",
       "      <td>4480773</td>\n",
       "      <td>HL773146</td>\n",
       "      <td>2005-12-05 02:10:00+00:00</td>\n",
       "      <td>004XX E 103RD ST</td>\n",
       "      <td>0313</td>\n",
       "      <td>ROBBERY</td>\n",
       "      <td>ARMED: OTHER DANGEROUS WEAPON</td>\n",
       "      <td>GROCERY FOOD STORE</td>\n",
       "      <td>False</td>\n",
       "      <td>False</td>\n",
       "      <td>...</td>\n",
       "      <td>9.0</td>\n",
       "      <td>49.0</td>\n",
       "      <td>03</td>\n",
       "      <td>1181181.0</td>\n",
       "      <td>1836771.0</td>\n",
       "      <td>2005</td>\n",
       "      <td>2018-02-10 03:50:01+00:00</td>\n",
       "      <td>41.707340</td>\n",
       "      <td>-87.612121</td>\n",
       "      <td>(41.707340178, -87.612120952)</td>\n",
       "    </tr>\n",
       "  </tbody>\n",
       "</table>\n",
       "<p>10 rows × 22 columns</p>\n",
       "</div>"
      ],
      "text/plain": [
       "   unique_key case_number                      date                  block  \\\n",
       "0       26773    JF247428 2022-05-18 10:06:00+00:00       002XX W 105TH ST   \n",
       "1        3496    HM180041 2006-02-14 04:15:00+00:00       003XX W 104TH PL   \n",
       "2     2498950    HH839590 2002-12-15 05:58:20+00:00       001XX E 105TH ST   \n",
       "3    12465794    JE352934 2021-08-27 10:00:00+00:00   104XX S MICHIGAN AVE   \n",
       "4     7127472    HR537025 2009-08-21 08:00:00+00:00       007XX E 104TH ST   \n",
       "5     1707607     G504706 2001-08-24 06:00:47+00:00     103XX S CORLISS AV   \n",
       "6    11944037    JD104688 2020-01-04 10:25:00+00:00  103XX S WENTWORTH AVE   \n",
       "7     9704426    HX354796 2014-07-21 07:00:00+00:00   105XX S EBERHART AVE   \n",
       "8    12376218    JE243259 2021-05-26 04:00:00+00:00       007XX E 105TH ST   \n",
       "9     4480773    HL773146 2005-12-05 02:10:00+00:00       004XX E 103RD ST   \n",
       "\n",
       "   iucr             primary_type                    description  \\\n",
       "0  0110                 HOMICIDE            FIRST DEGREE MURDER   \n",
       "1  0110                 HOMICIDE            FIRST DEGREE MURDER   \n",
       "2  0265      CRIM SEXUAL ASSAULT              AGGRAVATED: OTHER   \n",
       "3  0265  CRIMINAL SEXUAL ASSAULT             AGGRAVATED - OTHER   \n",
       "4  0266      CRIM SEXUAL ASSAULT                      PREDATORY   \n",
       "5  0281      CRIM SEXUAL ASSAULT                 NON-AGGRAVATED   \n",
       "6  0281      CRIM SEXUAL ASSAULT                 NON-AGGRAVATED   \n",
       "7  0281      CRIM SEXUAL ASSAULT                 NON-AGGRAVATED   \n",
       "8  0281  CRIMINAL SEXUAL ASSAULT                 NON-AGGRAVATED   \n",
       "9  0313                  ROBBERY  ARMED: OTHER DANGEROUS WEAPON   \n",
       "\n",
       "        location_description  arrest  domestic  ...  ward  community_area  \\\n",
       "0                      HOUSE    True      True  ...  34.0            49.0   \n",
       "1                     STREET    True     False  ...  34.0            49.0   \n",
       "2                      ALLEY    True     False  ...   9.0            49.0   \n",
       "3  NURSING / RETIREMENT HOME   False      True  ...   9.0            49.0   \n",
       "4                  RESIDENCE   False     False  ...   9.0            50.0   \n",
       "5                  RESIDENCE   False     False  ...   NaN             NaN   \n",
       "6     VEHICLE NON-COMMERCIAL   False     False  ...  34.0            49.0   \n",
       "7                  RESIDENCE   False     False  ...   9.0            49.0   \n",
       "8                  RESIDENCE   False     False  ...   9.0            50.0   \n",
       "9         GROCERY FOOD STORE   False     False  ...   9.0            49.0   \n",
       "\n",
       "   fbi_code  x_coordinate y_coordinate  year                updated_on  \\\n",
       "0       01A     1176555.0    1835314.0  2022 2022-09-18 04:45:51+00:00   \n",
       "1       01A     1176012.0    1835633.0  2006 2022-09-18 04:45:51+00:00   \n",
       "2        02     1179226.0    1835364.0  2002 2018-02-28 03:56:25+00:00   \n",
       "3        02     1178871.0    1835534.0  2021 2021-09-03 04:48:51+00:00   \n",
       "4        02     1182956.0    1836156.0  2009 2018-02-28 03:56:25+00:00   \n",
       "5        02     1183354.0    1836824.0  2001 2015-08-17 03:03:40+00:00   \n",
       "6        02     1176774.0    1836565.0  2020 2020-01-11 03:47:16+00:00   \n",
       "7        02     1181443.0    1835226.0  2014 2018-02-10 03:50:01+00:00   \n",
       "8        02     1182965.0    1835489.0  2021 2021-06-02 05:19:00+00:00   \n",
       "9        03     1181181.0    1836771.0  2005 2018-02-10 03:50:01+00:00   \n",
       "\n",
       "    latitude  longitude                       location  \n",
       "0  41.703447 -87.629105  (41.703447034, -87.629104948)  \n",
       "1  41.704335 -87.631084  (41.704334583, -87.631083766)  \n",
       "2  41.703524 -87.619323  (41.703523887, -87.619322851)  \n",
       "3  41.703998 -87.620618   (41.70399846, -87.620617627)  \n",
       "4  41.705612 -87.605640  (41.705611562, -87.605639976)  \n",
       "5  41.707435 -87.604162    (41.7074354, -87.604161837)  \n",
       "6  41.706875 -87.628266  (41.706875037, -87.628265515)  \n",
       "7  41.703094 -87.611209   (41.70309447, -87.611208957)  \n",
       "8  41.703781 -87.605628   (41.70378102, -87.605627658)  \n",
       "9  41.707340 -87.612121  (41.707340178, -87.612120952)  \n",
       "\n",
       "[10 rows x 22 columns]"
      ]
     },
     "execution_count": 9,
     "metadata": {},
     "output_type": "execute_result"
    }
   ],
   "source": [
    "# Write the code here to explore the data so you can find the answer\n",
    "client.list_rows(table, max_results=10).to_dataframe()"
   ]
  },
  {
   "cell_type": "code",
   "execution_count": 10,
   "id": "8113f49a",
   "metadata": {
    "execution": {
     "iopub.execute_input": "2023-05-22T15:39:24.316989Z",
     "iopub.status.busy": "2023-05-22T15:39:24.316600Z",
     "iopub.status.idle": "2023-05-22T15:39:24.325042Z",
     "shell.execute_reply": "2023-05-22T15:39:24.324107Z"
    },
    "papermill": {
     "duration": 0.021794,
     "end_time": "2023-05-22T15:39:24.327119",
     "exception": false,
     "start_time": "2023-05-22T15:39:24.305325",
     "status": "completed"
    },
    "tags": []
   },
   "outputs": [
    {
     "data": {
      "application/javascript": [
       "parent.postMessage({\"jupyterEvent\": \"custom.exercise_interaction\", \"data\": {\"outcomeType\": 1, \"valueTowardsCompletion\": 0.3333333333333333, \"interactionType\": 1, \"questionType\": 2, \"questionId\": \"3_IdentifyFieldsForPlotting\", \"learnToolsVersion\": \"0.3.4\", \"failureMessage\": \"\", \"exceptionClass\": \"\", \"trace\": \"\"}}, \"*\")"
      ],
      "text/plain": [
       "<IPython.core.display.Javascript object>"
      ]
     },
     "metadata": {},
     "output_type": "display_data"
    },
    {
     "data": {
      "text/markdown": [
       "<span style=\"color:#33cc33\">Correct</span>"
      ],
      "text/plain": [
       "Correct"
      ]
     },
     "metadata": {},
     "output_type": "display_data"
    }
   ],
   "source": [
    "fields_for_plotting = ['latitude','longitude'] # Put your answers here\n",
    "\n",
    "# Check your answer\n",
    "q_3.check()"
   ]
  },
  {
   "cell_type": "markdown",
   "id": "4fc5ba29",
   "metadata": {
    "papermill": {
     "duration": 0.009863,
     "end_time": "2023-05-22T15:39:24.347249",
     "exception": false,
     "start_time": "2023-05-22T15:39:24.337386",
     "status": "completed"
    },
    "tags": []
   },
   "source": [
    "For a hint or the solution, uncomment the appropriate line below."
   ]
  },
  {
   "cell_type": "code",
   "execution_count": 11,
   "id": "99c26c38",
   "metadata": {
    "execution": {
     "iopub.execute_input": "2023-05-22T15:39:24.369461Z",
     "iopub.status.busy": "2023-05-22T15:39:24.368731Z",
     "iopub.status.idle": "2023-05-22T15:39:24.380826Z",
     "shell.execute_reply": "2023-05-22T15:39:24.379666Z"
    },
    "papermill": {
     "duration": 0.025707,
     "end_time": "2023-05-22T15:39:24.383163",
     "exception": false,
     "start_time": "2023-05-22T15:39:24.357456",
     "status": "completed"
    },
    "tags": []
   },
   "outputs": [
    {
     "data": {
      "application/javascript": [
       "parent.postMessage({\"jupyterEvent\": \"custom.exercise_interaction\", \"data\": {\"interactionType\": 2, \"questionType\": 2, \"questionId\": \"3_IdentifyFieldsForPlotting\", \"learnToolsVersion\": \"0.3.4\", \"valueTowardsCompletion\": 0.0, \"failureMessage\": \"\", \"exceptionClass\": \"\", \"trace\": \"\", \"outcomeType\": 4}}, \"*\")"
      ],
      "text/plain": [
       "<IPython.core.display.Javascript object>"
      ]
     },
     "metadata": {},
     "output_type": "display_data"
    },
    {
     "data": {
      "text/markdown": [
       "<span style=\"color:#3366cc\">Hint:</span> Look at the table schema.  There are a couple options, but two of the fields are things commonly used to plot on maps. Both are `'FLOAT'` types. Use quotes around the field names in your answer."
      ],
      "text/plain": [
       "Hint: Look at the table schema.  There are a couple options, but two of the fields are things commonly used to plot on maps. Both are `'FLOAT'` types. Use quotes around the field names in your answer."
      ]
     },
     "metadata": {},
     "output_type": "display_data"
    },
    {
     "data": {
      "application/javascript": [
       "parent.postMessage({\"jupyterEvent\": \"custom.exercise_interaction\", \"data\": {\"interactionType\": 3, \"questionType\": 2, \"questionId\": \"3_IdentifyFieldsForPlotting\", \"learnToolsVersion\": \"0.3.4\", \"valueTowardsCompletion\": 0.0, \"failureMessage\": \"\", \"exceptionClass\": \"\", \"trace\": \"\", \"outcomeType\": 4}}, \"*\")"
      ],
      "text/plain": [
       "<IPython.core.display.Javascript object>"
      ]
     },
     "metadata": {},
     "output_type": "display_data"
    },
    {
     "data": {
      "text/markdown": [
       "<span style=\"color:#33cc99\">Solution:</span> \n",
       "```python\n",
       "fields_for_plotting = ['latitude', 'longitude']\n",
       "```"
      ],
      "text/plain": [
       "Solution: \n",
       "```python\n",
       "fields_for_plotting = ['latitude', 'longitude']\n",
       "```"
      ]
     },
     "metadata": {},
     "output_type": "display_data"
    }
   ],
   "source": [
    "q_3.hint()\n",
    "q_3.solution()"
   ]
  },
  {
   "cell_type": "markdown",
   "id": "da68fe96",
   "metadata": {
    "papermill": {
     "duration": 0.010739,
     "end_time": "2023-05-22T15:39:24.404782",
     "exception": false,
     "start_time": "2023-05-22T15:39:24.394043",
     "status": "completed"
    },
    "tags": []
   },
   "source": [
    "Thinking about the question above, there are a few columns that appear to have geographic data. Look at a few values (with the `list_rows()` command) to see if you can determine their relationship.  Two columns will still be hard to interpret. But it should be obvious how the `location` column relates to `latitude` and `longitude`."
   ]
  },
  {
   "cell_type": "code",
   "execution_count": 12,
   "id": "c7cf2b4b",
   "metadata": {
    "execution": {
     "iopub.execute_input": "2023-05-22T15:39:24.428018Z",
     "iopub.status.busy": "2023-05-22T15:39:24.427628Z",
     "iopub.status.idle": "2023-05-22T15:39:24.432123Z",
     "shell.execute_reply": "2023-05-22T15:39:24.431021Z"
    },
    "papermill": {
     "duration": 0.018966,
     "end_time": "2023-05-22T15:39:24.434517",
     "exception": false,
     "start_time": "2023-05-22T15:39:24.415551",
     "status": "completed"
    },
    "tags": []
   },
   "outputs": [],
   "source": [
    "# Scratch space for your code"
   ]
  },
  {
   "cell_type": "markdown",
   "id": "1c4be151",
   "metadata": {
    "papermill": {
     "duration": 0.011279,
     "end_time": "2023-05-22T15:39:24.457036",
     "exception": false,
     "start_time": "2023-05-22T15:39:24.445757",
     "status": "completed"
    },
    "tags": []
   },
   "source": [
    "# Keep going\n",
    "\n",
    "You've looked at the schema, but you haven't yet done anything exciting with the data itself. Things get more interesting when you get to the data, so keep going to **[write your first SQL query](https://www.kaggle.com/dansbecker/select-from-where).**"
   ]
  },
  {
   "cell_type": "markdown",
   "id": "53b3e1bd",
   "metadata": {
    "papermill": {
     "duration": 0.010647,
     "end_time": "2023-05-22T15:39:24.478578",
     "exception": false,
     "start_time": "2023-05-22T15:39:24.467931",
     "status": "completed"
    },
    "tags": []
   },
   "source": [
    "---\n",
    "\n",
    "\n",
    "\n",
    "\n",
    "*Have questions or comments? Visit the [course discussion forum](https://www.kaggle.com/learn/intro-to-sql/discussion) to chat with other learners.*"
   ]
  }
 ],
 "metadata": {
  "kernelspec": {
   "display_name": "Python 3",
   "language": "python",
   "name": "python3"
  },
  "language_info": {
   "codemirror_mode": {
    "name": "ipython",
    "version": 3
   },
   "file_extension": ".py",
   "mimetype": "text/x-python",
   "name": "python",
   "nbconvert_exporter": "python",
   "pygments_lexer": "ipython3",
   "version": "3.10.10"
  },
  "papermill": {
   "default_parameters": {},
   "duration": 15.251873,
   "end_time": "2023-05-22T15:39:25.310507",
   "environment_variables": {},
   "exception": null,
   "input_path": "__notebook__.ipynb",
   "output_path": "__notebook__.ipynb",
   "parameters": {},
   "start_time": "2023-05-22T15:39:10.058634",
   "version": "2.4.0"
  }
 },
 "nbformat": 4,
 "nbformat_minor": 5
}
